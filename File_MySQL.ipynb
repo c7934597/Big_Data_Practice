{
 "cells": [
  {
   "cell_type": "code",
   "execution_count": 3,
   "metadata": {},
   "outputs": [],
   "source": [
    "import pymysql\n",
    "\n",
    "conn = pymysql.connect('localhost',port=3306,user='c7934597',passwd='password',charset='utf8', db='pythondb')  #連結資料庫\n",
    "cursor = conn.cursor()\n",
    "\n",
    "cursor.execute(\"drop table if exists score\")  #如果資料表已經存在,刪除後重建\n",
    "sql = \"\"\"\n",
    "CREATE TABLE score (\n",
    "sid int not null auto_increment primary key,\n",
    "姓名 char(20),\n",
    "座號 char(3),\n",
    "國文 int,\n",
    "數學 int\n",
    ") \n",
    "\"\"\"\n",
    "cursor.execute(sql)  #執行SQL指令\n",
    "\n",
    "conn.commit()  #提交資料庫\n",
    "cursor.close()\n",
    "conn.close()"
   ]
  },
  {
   "cell_type": "code",
   "execution_count": 7,
   "metadata": {},
   "outputs": [],
   "source": [
    "import pymysql\n",
    "\n",
    "conn = pymysql.connect('localhost',port=3306,user='c7934597',passwd='password',charset='utf8', db='pythondb')  #連結資料庫\n",
    "cursor = conn.cursor()\n",
    "\n",
    "sql = \"insert into score (姓名,座號,國文,數學) values ('李大毛','1',92,80)\"\n",
    "cursor.execute(sql)\n",
    "sql = \"insert into score (姓名,座號,國文,數學) values ('林小明','2',83,61)\"\n",
    "cursor.execute(sql)\n",
    "sql = \"insert into score (姓名,座號,國文,數學) values ('黃金龍','4',53,71)\"\n",
    "cursor.execute(sql)\n",
    "sql = \"insert into score (姓名,座號,國文,數學) values ('劉火樹','6',87,89)\"\n",
    "cursor.execute(sql)\n",
    "sql = \"insert into score (姓名,座號,國文,數學) values ('何美麗','7',73,95)\"\n",
    "cursor.execute(sql)\n",
    "\n",
    "conn.commit()  #提交資料庫\n",
    "cursor.close()\n",
    "conn.close()"
   ]
  },
  {
   "cell_type": "code",
   "execution_count": 9,
   "metadata": {},
   "outputs": [
    {
     "name": "stdout",
     "output_type": "stream",
     "text": [
      "全部資料：\n",
      "((1, '李大毛', '1', 92, 80), (2, '林小明', '2', 83, 61), (3, '黃金龍', '4', 53, 71), (4, '劉火樹', '6', 87, 89), (5, '何美麗', '7', 73, 95))\n",
      "修改後資料：\n",
      "((1, '李大毛', '1', 92, 80), (2, '林小明', '2', 83, 61), (3, '黃金龍', '4', 98, 71), (4, '劉火樹', '6', 87, 89), (5, '何美麗', '7', 73, 95))\n",
      "刪除後資料：\n",
      "((1, '李大毛', '1', 92, 80), (2, '林小明', '2', 83, 61), (3, '黃金龍', '4', 98, 71), (5, '何美麗', '7', 73, 95))\n"
     ]
    }
   ],
   "source": [
    "import pymysql\n",
    "\n",
    "conn = pymysql.connect('localhost',port=3306,user='c7934597',passwd='password',charset='utf8', db='pythondb')  #連結資料庫\n",
    "cursor = conn.cursor()\n",
    "\n",
    "sql1 = \"select * from score\"  #查詢資料\n",
    "cursor.execute(sql1)\n",
    "data = cursor.fetchall()\n",
    "print('全部資料：')\n",
    "print(data)\n",
    "\n",
    "sql2 = \"update score set 國文=98 where 座號 = '%s' \" % ('4')  #修改資料\n",
    "cursor.execute(sql2)\n",
    "cursor.execute(sql1)\n",
    "data = cursor.fetchall()\n",
    "print('修改後資料：')\n",
    "print(data)\n",
    "\n",
    "sql3 = \"delete from score where 座號 = '%s' \" % ('6')  #刪除資料\n",
    "cursor.execute(sql3)\n",
    "cursor.execute(sql1)\n",
    "data = cursor.fetchall()\n",
    "print('刪除後資料：')\n",
    "print(data)\n",
    "\n",
    "conn.commit()  #提交資料庫\n",
    "cursor.close()\n",
    "conn.close()"
   ]
  }
 ],
 "metadata": {
  "kernelspec": {
   "display_name": "Python 3",
   "language": "python",
   "name": "python3"
  },
  "language_info": {
   "codemirror_mode": {
    "name": "ipython",
    "version": 3
   },
   "file_extension": ".py",
   "mimetype": "text/x-python",
   "name": "python",
   "nbconvert_exporter": "python",
   "pygments_lexer": "ipython3",
   "version": "3.6.6"
  }
 },
 "nbformat": 4,
 "nbformat_minor": 2
}

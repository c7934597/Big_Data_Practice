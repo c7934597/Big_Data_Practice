{
 "cells": [
  {
   "cell_type": "code",
   "execution_count": 1,
   "metadata": {},
   "outputs": [
    {
     "name": "stdout",
     "output_type": "stream",
     "text": [
      "     國文  數學  英文  自然  社會\n",
      "林大明  65  92  78  83  70\n",
      "陳聰明  90  72  76  93  56\n",
      "黃美麗  81  85  91  89  77\n",
      "熊小娟  79  53  47  94  80\n"
     ]
    }
   ],
   "source": [
    "import pandas as pd\n",
    "datas = [[65,92,78,83,70], [90,72,76,93,56], [81,85,91,89,77], [79,53,47,94,80]]\n",
    "indexs = [\"林大明\", \"陳聰明\", \"黃美麗\", \"熊小娟\"]\n",
    "columns = [\"國文\", \"數學\", \"英文\", \"自然\", \"社會\"]\n",
    "df = pd.DataFrame(datas, columns=columns,  index=indexs)\n",
    "print(df)\n",
    "\n",
    "df.to_csv('out.csv',encoding=\"utf-8-sig\")"
   ]
  },
  {
   "cell_type": "code",
   "execution_count": 4,
   "metadata": {},
   "outputs": [
    {
     "name": "stdout",
     "output_type": "stream",
     "text": [
      "     國文  數學  英文  自然  社會\n",
      "林大明  65  92  78  83  70\n",
      "陳聰明  90  72  76  93  56\n",
      "黃美麗  81  85  91  89  77\n",
      "熊小娟  79  53  47  94  80\n"
     ]
    }
   ],
   "source": [
    "import pandas as pd\n",
    "data = pd.read_csv(\"out.csv\",encoding=\"utf-8-sig\",index_col=0)\n",
    "#index_col=0 去除索引\n",
    "\n",
    "print(data)"
   ]
  },
  {
   "cell_type": "code",
   "execution_count": 5,
   "metadata": {},
   "outputs": [
    {
     "name": "stdout",
     "output_type": "stream",
     "text": [
      "     國文  數學  英文  自然  社會\n",
      "林大明  65  92  78  83  70\n",
      "陳聰明  90  72  76  93  56\n",
      "黃美麗  81  85  91  89  77\n",
      "熊小娟  79  53  47  94  80\n"
     ]
    }
   ],
   "source": [
    "import pandas as pd\n",
    "datas = [[65,92,78,83,70], [90,72,76,93,56], [81,85,91,89,77], [79,53,47,94,80]]\n",
    "indexs = [\"林大明\", \"陳聰明\", \"黃美麗\", \"熊小娟\"]\n",
    "columns = [\"國文\", \"數學\", \"英文\", \"自然\", \"社會\"]\n",
    "df = pd.DataFrame(datas, columns=columns,  index=indexs)\n",
    "print(df)\n",
    "\n",
    "df.to_excel('out.xlsx',encoding=\"utf-8-sig\")"
   ]
  },
  {
   "cell_type": "code",
   "execution_count": 6,
   "metadata": {},
   "outputs": [
    {
     "name": "stdout",
     "output_type": "stream",
     "text": [
      "     國文  數學  英文  自然  社會\n",
      "林大明  65  92  78  83  70\n",
      "陳聰明  90  72  76  93  56\n",
      "黃美麗  81  85  91  89  77\n",
      "熊小娟  79  53  47  94  80\n"
     ]
    }
   ],
   "source": [
    "import pandas as pd\n",
    "data = pd.read_excel(\"out.xlsx\",encoding=\"utf-8-sig\",index_col=0)\n",
    "\n",
    "print(data)"
   ]
  },
  {
   "cell_type": "code",
   "execution_count": 7,
   "metadata": {},
   "outputs": [
    {
     "name": "stdout",
     "output_type": "stream",
     "text": [
      "     國文  數學  英文  自然  社會\n",
      "林大明  65  92  78  83  70\n",
      "陳聰明  90  72  76  93  56\n",
      "黃美麗  81  85  91  89  77\n",
      "熊小娟  79  53  47  94  80\n"
     ]
    }
   ],
   "source": [
    "import pandas as pd\n",
    "datas = [[65,92,78,83,70], [90,72,76,93,56], [81,85,91,89,77], [79,53,47,94,80]]\n",
    "indexs = [\"林大明\", \"陳聰明\", \"黃美麗\", \"熊小娟\"]\n",
    "columns = [\"國文\", \"數學\", \"英文\", \"自然\", \"社會\"]\n",
    "df = pd.DataFrame(datas, columns=columns,  index=indexs)\n",
    "print(df)\n",
    "\n",
    "df.to_json('out.json',force_ascii=False)"
   ]
  },
  {
   "cell_type": "code",
   "execution_count": 8,
   "metadata": {},
   "outputs": [
    {
     "name": "stdout",
     "output_type": "stream",
     "text": [
      "國文    {'林大明': 65, '陳聰明': 90, '黃美麗': 81, '熊小娟': 79}\n",
      "數學    {'林大明': 92, '陳聰明': 72, '黃美麗': 85, '熊小娟': 53}\n",
      "英文    {'林大明': 78, '陳聰明': 76, '黃美麗': 91, '熊小娟': 47}\n",
      "自然    {'林大明': 83, '陳聰明': 93, '黃美麗': 89, '熊小娟': 94}\n",
      "社會    {'林大明': 70, '陳聰明': 56, '黃美麗': 77, '熊小娟': 80}\n",
      "dtype: object\n"
     ]
    }
   ],
   "source": [
    "import pandas as pd\n",
    "data = pd.read_json(\"out.json\", typ='series')\n",
    "\n",
    "print(data)"
   ]
  },
  {
   "cell_type": "code",
   "execution_count": 9,
   "metadata": {},
   "outputs": [
    {
     "name": "stdout",
     "output_type": "stream",
     "text": [
      "     國文  數學  英文  自然  社會\n",
      "林大明  65  92  78  83  70\n",
      "陳聰明  90  72  76  93  56\n",
      "黃美麗  81  85  91  89  77\n",
      "熊小娟  79  53  47  94  80\n"
     ]
    }
   ],
   "source": [
    "import pandas as pd\n",
    "datas = [[65,92,78,83,70], [90,72,76,93,56], [81,85,91,89,77], [79,53,47,94,80]]\n",
    "indexs = [\"林大明\", \"陳聰明\", \"黃美麗\", \"熊小娟\"]\n",
    "columns = [\"國文\", \"數學\", \"英文\", \"自然\", \"社會\"]\n",
    "df = pd.DataFrame(datas, columns=columns,  index=indexs)\n",
    "print(df)\n",
    "\n",
    "df.to_html('out.html')"
   ]
  },
  {
   "cell_type": "code",
   "execution_count": 10,
   "metadata": {},
   "outputs": [
    {
     "name": "stdout",
     "output_type": "stream",
     "text": [
      "     國文  數學  英文  自然  社會\n",
      "林大明  65  92  78  83  70\n",
      "陳聰明  90  72  76  93  56\n",
      "黃美麗  81  85  91  89  77\n",
      "熊小娟  79  53  47  94  80\n"
     ]
    }
   ],
   "source": [
    "import pandas as pd\n",
    "data = pd.read_html(\"out.html\",encoding=\"utf-8-sig\",index_col=0)\n",
    "\n",
    "print(data[0])"
   ]
  }
 ],
 "metadata": {
  "kernelspec": {
   "display_name": "Python 3",
   "language": "python",
   "name": "python3"
  },
  "language_info": {
   "codemirror_mode": {
    "name": "ipython",
    "version": 3
   },
   "file_extension": ".py",
   "mimetype": "text/x-python",
   "name": "python",
   "nbconvert_exporter": "python",
   "pygments_lexer": "ipython3",
   "version": "3.6.6"
  }
 },
 "nbformat": 4,
 "nbformat_minor": 2
}

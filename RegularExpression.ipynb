{
 "cells": [
  {
   "cell_type": "code",
   "execution_count": 1,
   "metadata": {},
   "outputs": [
    {
     "name": "stdout",
     "output_type": "stream",
     "text": [
      "<_sre.SRE_Match object; span=(0, 3), match='tem'>\n",
      "tem\n",
      "0\n",
      "3\n",
      "(0, 3)\n"
     ]
    }
   ],
   "source": [
    "import re\n",
    "m = re.match(r'[a-z]+','tem123po')\n",
    "print(m)\n",
    "\n",
    "if not m==None:\n",
    "    print(m.group()) #tem\n",
    "    print(m.start()) #0\n",
    "    print(m.end())   #3\n",
    "    print(m.span())  #(0, 3)"
   ]
  },
  {
   "cell_type": "code",
   "execution_count": 2,
   "metadata": {},
   "outputs": [
    {
     "name": "stdout",
     "output_type": "stream",
     "text": [
      "<_sre.SRE_Match object; span=(1, 4), match='tem'>\n",
      "tem\n",
      "1\n",
      "4\n",
      "(1, 4)\n"
     ]
    }
   ],
   "source": [
    "import re\n",
    "m = re.search(r'[a-z]+','3tem12po')\n",
    "print(m) # <_sre.SRE_Match object; span=(1, 4), match='tem'>\n",
    "if not m==None:\n",
    "    print(m.group())  # tem\n",
    "    print(m.start())  # 1\n",
    "    print(m.end())    # 4\n",
    "    print(m.span())   # (1,4)"
   ]
  },
  {
   "cell_type": "code",
   "execution_count": 3,
   "metadata": {},
   "outputs": [
    {
     "name": "stdout",
     "output_type": "stream",
     "text": [
      "['tem', 'po']\n"
     ]
    }
   ],
   "source": [
    "import re\n",
    "m = re.findall(r'[a-z]+','3tem12po')\n",
    "print(m) # ['tem', 'po']"
   ]
  },
  {
   "cell_type": "code",
   "execution_count": 4,
   "metadata": {},
   "outputs": [
    {
     "name": "stdout",
     "output_type": "stream",
     "text": [
      "['tem', 'po']\n"
     ]
    }
   ],
   "source": [
    "import re\n",
    "reobj = re.compile(r'[a-z]+')\n",
    "m = reobj.findall('3tem12po')\n",
    "print(m) # ['tem', 'po']"
   ]
  },
  {
   "cell_type": "code",
   "execution_count": 8,
   "metadata": {},
   "outputs": [
    {
     "name": "stdout",
     "output_type": "stream",
     "text": [
      "mail@test.com.tw\n",
      "mail2@test.com.tw\n",
      "360\n",
      "http://test.com.tw/p1.jpg\n",
      "http://test.com.tw/p2.jpg\n"
     ]
    }
   ],
   "source": [
    "html = \"\"\"\n",
    "<div class=\"content\">\n",
    "    E-Mail：<a href=\"mailto:mail@test.com.tw\">mail</a><br>\n",
    "    E-Mail2：<a href=\"mailto:mail2@test.com.tw\">mail2</a><br>\n",
    "    <ul class=\"price\">定價：360元 </ul>\n",
    "    <img src=\"http://test.com.tw/p1.jpg\">\n",
    "    <img src=\"http://test.com.tw/p2.jpg\">\n",
    "    <img src=\"http://test.com.tw/p3.png\">\n",
    "</div>\n",
    "\"\"\"\n",
    "\n",
    "import re\n",
    "from bs4 import BeautifulSoup\n",
    "sp = BeautifulSoup(html, 'html.parser')\n",
    "\n",
    "emails = re.findall(r'[a-zA-Z0-9_.+-]+@[a-zA-Z0-9-]+\\.[a-zA-Z0-9-.]+',html)\n",
    "for email in emails:\n",
    "    print(email)\n",
    "\n",
    "price=re.findall(r\"[\\d]+\",sp.select('.price')[0].text)[0] #價格\n",
    "print(price)\n",
    "\n",
    "regex=re.compile('.*\\.jpg')\n",
    "imglist=sp.find_all(\"img\",{\"src\":regex})\n",
    "for img in imglist:\n",
    "    print(img[\"src\"])"
   ]
  }
 ],
 "metadata": {
  "kernelspec": {
   "display_name": "Python 3",
   "language": "python",
   "name": "python3"
  },
  "language_info": {
   "codemirror_mode": {
    "name": "ipython",
    "version": 3
   },
   "file_extension": ".py",
   "mimetype": "text/x-python",
   "name": "python",
   "nbconvert_exporter": "python",
   "pygments_lexer": "ipython3",
   "version": "3.6.6"
  }
 },
 "nbformat": 4,
 "nbformat_minor": 2
}

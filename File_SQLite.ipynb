{
 "cells": [
  {
   "cell_type": "code",
   "execution_count": 1,
   "metadata": {},
   "outputs": [],
   "source": [
    "import sqlite3\n",
    "conn = sqlite3.connect('test.sqlite') # 建立資料庫連線\n",
    "cursor = conn.cursor() # 建立 cursor 物件\n",
    "\n",
    "# 建立一個資料表\n",
    "sqlstr='CREATE TABLE IF NOT EXISTS table01 \\\n",
    "(\"num\" INTEGER PRIMARY KEY NOT NULL ,\"tel\" TEXT)'\n",
    "cursor.execute(sqlstr)\n",
    "\n",
    "# 新增一筆記錄\n",
    "sqlstr='insert into table01 values(1,\"02-1234567\")'\n",
    "cursor.execute(sqlstr)\n",
    "\n",
    "conn.commit() # 主動更新\n",
    "conn.close()  # 關閉資料庫連"
   ]
  },
  {
   "cell_type": "code",
   "execution_count": 2,
   "metadata": {},
   "outputs": [
    {
     "name": "stdout",
     "output_type": "stream",
     "text": [
      "[(1, '02-1234567')]\n",
      "1\t02-1234567\n"
     ]
    }
   ],
   "source": [
    "import sqlite3\n",
    "conn = sqlite3.connect('test.sqlite') # 建立資料庫連線\n",
    "cursor = conn.execute('select * from table01')\n",
    "rows = cursor.fetchall()\n",
    "print(rows)\n",
    "for row in rows:\n",
    "    print(\"{}\\t{}\".format(row[0],row[1]))\n",
    "\n",
    "conn.close()  # 關閉資料庫連"
   ]
  },
  {
   "cell_type": "code",
   "execution_count": 3,
   "metadata": {},
   "outputs": [
    {
     "name": "stdout",
     "output_type": "stream",
     "text": [
      "1\t02-1234567\n"
     ]
    }
   ],
   "source": [
    "import sqlite3\n",
    "conn = sqlite3.connect('test.sqlite') # 建立資料庫連線\n",
    "cursor = conn.execute('select * from table01 where num=1')\n",
    "row = cursor.fetchone()\n",
    "if not row==None:\n",
    "    print(\"{}\\t{}\".format(row[0],row[1]))\n",
    "\n",
    "conn.close()  # 關閉資料庫連"
   ]
  }
 ],
 "metadata": {
  "kernelspec": {
   "display_name": "Python 3",
   "language": "python",
   "name": "python3"
  },
  "language_info": {
   "codemirror_mode": {
    "name": "ipython",
    "version": 3
   },
   "file_extension": ".py",
   "mimetype": "text/x-python",
   "name": "python",
   "nbconvert_exporter": "python",
   "pygments_lexer": "ipython3",
   "version": "3.6.6"
  }
 },
 "nbformat": 4,
 "nbformat_minor": 2
}

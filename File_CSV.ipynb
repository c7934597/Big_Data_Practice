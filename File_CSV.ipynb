{
 "cells": [
  {
   "cell_type": "code",
   "execution_count": 2,
   "metadata": {},
   "outputs": [],
   "source": [
    "import csv\n",
    "# 開啟輸出的 csv 檔案\n",
    "with open('test.csv', 'w', newline='') as csvfile:\n",
    "  # 建立 csv 檔寫入物件\n",
    "  writer = csv.writer(csvfile)\n",
    "\n",
    "  # 寫入欄位名稱\n",
    "  writer.writerow(['姓名', '身高', '體重'])\n",
    "  # 寫入資料\n",
    "  writer.writerow(['chiou', 170, 65])\n",
    "  writer.writerow(['David', 183, 78])"
   ]
  },
  {
   "cell_type": "code",
   "execution_count": 4,
   "metadata": {},
   "outputs": [],
   "source": [
    "import csv\n",
    "with open('test.csv', 'w', newline='') as csvfile:\n",
    "    # 定義欄位\n",
    "    fieldnames = ['姓名', '身高', '體重']\n",
    "\n",
    "    # 將 dictionary 寫入 csv 檔\n",
    "    writer = csv.DictWriter(csvfile, fieldnames=fieldnames)\n",
    "\n",
    "    # 寫入欄位名稱\n",
    "    writer.writeheader()\n",
    "    # 寫入資料\n",
    "    writer.writerow({'姓名': 'chiou', '身高': 17, '體重': 6})\n",
    "    writer.writerow({'姓名': 'David', '身高': 183, '體重': 78})"
   ]
  },
  {
   "cell_type": "code",
   "execution_count": 5,
   "metadata": {},
   "outputs": [
    {
     "name": "stdout",
     "output_type": "stream",
     "text": [
      "['姓名', '身高', '體重']\n",
      "['chiou', '17', '6']\n",
      "['David', '183', '78']\n"
     ]
    }
   ],
   "source": [
    "import csv\n",
    "# 開啟 csv 檔案\n",
    "with open('test.csv', newline='') as csvfile:\n",
    "    # 讀取 csv 檔案內容\n",
    "    rows = csv.reader(csvfile)\n",
    "    \n",
    "    # 以迴圈顯示每一列\n",
    "    for row in rows:\n",
    "        print(row)"
   ]
  },
  {
   "cell_type": "code",
   "execution_count": 6,
   "metadata": {},
   "outputs": [
    {
     "name": "stdout",
     "output_type": "stream",
     "text": [
      "chiou 17 6\n",
      "David 183 78\n"
     ]
    }
   ],
   "source": [
    "import csv\n",
    "# 開啟 csv 檔案\n",
    "with open('test.csv', newline='') as csvfile:\n",
    "    # 讀取 csv 檔內容，將每一列轉成 dictionary\n",
    "    rows = csv.DictReader(csvfile)   \n",
    "    \n",
    "    # 以迴圈顯示每一列\n",
    "    for row in rows:\n",
    "        print(row['姓名'],row['身高'],row['體重'])"
   ]
  }
 ],
 "metadata": {
  "kernelspec": {
   "display_name": "Python 3",
   "language": "python",
   "name": "python3"
  },
  "language_info": {
   "codemirror_mode": {
    "name": "ipython",
    "version": 3
   },
   "file_extension": ".py",
   "mimetype": "text/x-python",
   "name": "python",
   "nbconvert_exporter": "python",
   "pygments_lexer": "ipython3",
   "version": "3.6.6"
  }
 },
 "nbformat": 4,
 "nbformat_minor": 2
}

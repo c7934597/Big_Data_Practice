{
 "cells": [
  {
   "cell_type": "code",
   "execution_count": 1,
   "metadata": {},
   "outputs": [],
   "source": [
    "import requests\n",
    "from bs4 import BeautifulSoup\n",
    "url = 'http://www.e-happy.com.tw'\n",
    "html = requests.get(url)\n",
    "sp = BeautifulSoup(html.text, 'html.parser')"
   ]
  },
  {
   "cell_type": "code",
   "execution_count": 5,
   "metadata": {},
   "outputs": [
    {
     "name": "stdout",
     "output_type": "stream",
     "text": [
      "<title>網頁標題</title>\n",
      "<h2>文件標題</h2>\n",
      "[<a class=\"red\" href=\"http://example.com/one\" id=\"link1\">First</a>, <a class=\"red\" href=\"http://example.com/two\" id=\"link2\">Second</a>, <a class=\"blue\" href=\"http://example.com/three\" id=\"link3\">\n",
      "<img src=\"http://example.com/three.jpg\"/>Third\n",
      "    </a>]\n",
      "[<a class=\"red\" href=\"http://example.com/one\" id=\"link1\">First</a>, <a class=\"red\" href=\"http://example.com/two\" id=\"link2\">Second</a>]\n",
      "First\n",
      "First\n",
      "http://example.com/one\n",
      "http://example.com/one\n",
      "[<title>網頁標題</title>, <h2>文件標題</h2>]\n",
      "http://example.com/three.jpg\n"
     ]
    }
   ],
   "source": [
    "html = \"\"\"\n",
    "<html><head><title>網頁標題</title></head>\n",
    "<p class=\"header\"><h2>文件標題</h2></p>\n",
    "<div class=\"content\">\n",
    "    <div class=\"item1\">\n",
    "        <a href=\"http://example.com/one\" class=\"red\" id=\"link1\">First</a>\n",
    "        <a href=\"http://example.com/two\" class=\"red\" id=\"link2\">Second</a>\n",
    "    </div>\n",
    "    <a href=\"http://example.com/three\" class=\"blue\" id=\"link3\">\n",
    "        <img src=\"http://example.com/three.jpg\">Third\n",
    "    </a>\n",
    "</div>\n",
    "\"\"\"\n",
    "\n",
    "from bs4 import BeautifulSoup\n",
    "sp = BeautifulSoup(html,'html.parser') \n",
    "\n",
    "print(sp.title) # <title>網頁標題</title>\n",
    "\n",
    "print(sp.find('h2')) # <h2>文件標題</h2>\n",
    "\n",
    "print(sp.find_all('a')) \n",
    "print(sp.find_all(\"a\", {\"class\":\"red\"}))\n",
    "\n",
    "data1=sp.find(\"a\", {\"href\":\"http://example.com/one\"})\n",
    "print(data1.text) # First\n",
    "\n",
    "data2 = sp.select(\"#link1\") \n",
    "print(data2[0].text) # First\n",
    "print(data2[0].get(\"href\")) # http://example.com/one\n",
    "print(data2[0][\"href\"])     # http://example.com/one\n",
    "\n",
    "print(sp.find_all(['title','h2'])) # [<title>網頁標題</title>, <h2>文件標題</h2>]\n",
    "\n",
    "print(sp.select('div img')[0]['src']) # http://example.com/three.jpg"
   ]
  }
 ],
 "metadata": {
  "kernelspec": {
   "display_name": "Python 3",
   "language": "python",
   "name": "python3"
  },
  "language_info": {
   "codemirror_mode": {
    "name": "ipython",
    "version": 3
   },
   "file_extension": ".py",
   "mimetype": "text/x-python",
   "name": "python",
   "nbconvert_exporter": "python",
   "pygments_lexer": "ipython3",
   "version": "3.6.6"
  }
 },
 "nbformat": 4,
 "nbformat_minor": 2
}

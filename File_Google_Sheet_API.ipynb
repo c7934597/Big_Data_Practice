{
 "cells": [
  {
   "cell_type": "code",
   "execution_count": 1,
   "metadata": {},
   "outputs": [
    {
     "data": {
      "text/plain": [
       "{'spreadsheetId': '10aMop39twHCxhRgiGRVeXcesoh6SafwxoCXG8IVY7YY',\n",
       " 'tableRange': \"'工作表1'!A1:B1\",\n",
       " 'updates': {'spreadsheetId': '10aMop39twHCxhRgiGRVeXcesoh6SafwxoCXG8IVY7YY',\n",
       "  'updatedRange': \"'工作表1'!A2:B2\",\n",
       "  'updatedRows': 1,\n",
       "  'updatedColumns': 2,\n",
       "  'updatedCells': 2}}"
      ]
     },
     "execution_count": 1,
     "metadata": {},
     "output_type": "execute_result"
    }
   ],
   "source": [
    "import gspread\n",
    "from oauth2client.service_account import ServiceAccountCredentials\n",
    "\n",
    "auth_json_path = 'PythonUpload.json'\n",
    "gss_scopes = ['https://spreadsheets.google.com/feeds']\n",
    "\n",
    "#連線\n",
    "credentials = ServiceAccountCredentials.from_json_keyfile_name(auth_json_path,gss_scopes)\n",
    "gss_client = gspread.authorize(credentials) \n",
    "\n",
    "#開啟 Google Sheet 資料表\n",
    "spreadsheet_key = '10aMop39twHCxhRgiGRVeXcesoh6SafwxoCXG8IVY7YY' \n",
    "sheet = gss_client.open_by_key(spreadsheet_key).sheet1\n",
    "\n",
    "# Google Sheet 資料表\n",
    "sheet.clear() # 清除 Google Sheet 資料表內容\n",
    "listtitle=[\"姓名\",\"電話\"]\n",
    "sheet.append_row(listtitle)  # 標題\n",
    "listdata=[\"chiou\",\"0937-1234567\"]\n",
    "sheet.append_row(listdata)  # 資料內容"
   ]
  }
 ],
 "metadata": {
  "kernelspec": {
   "display_name": "Python 3",
   "language": "python",
   "name": "python3"
  },
  "language_info": {
   "codemirror_mode": {
    "name": "ipython",
    "version": 3
   },
   "file_extension": ".py",
   "mimetype": "text/x-python",
   "name": "python",
   "nbconvert_exporter": "python",
   "pygments_lexer": "ipython3",
   "version": "3.6.6"
  }
 },
 "nbformat": 4,
 "nbformat_minor": 2
}

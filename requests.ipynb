{
 "cells": [
  {
   "cell_type": "code",
   "execution_count": null,
   "metadata": {},
   "outputs": [],
   "source": [
    "import requests\n",
    "url = 'http://www.e-happy.com.tw'\n",
    "html = requests.get(url)\n",
    "html.encoding = \"uft-8\"\n",
    "if html.status_code == requests.codes.ok:\n",
    "    print(html.text)"
   ]
  },
  {
   "cell_type": "code",
   "execution_count": 2,
   "metadata": {},
   "outputs": [
    {
     "name": "stdout",
     "output_type": "stream",
     "text": [
      "http://httpbin.org/get?key1=value1&key2=value2\n"
     ]
    }
   ],
   "source": [
    "import requests\n",
    "# 將查詢參數定義為字典資料，加入GET請求中\n",
    "payload = {'key1': 'value1', 'key2': 'value2'}\n",
    "html = requests.get(\"http://httpbin.org/get\", params=payload)\n",
    "print(html.url)"
   ]
  },
  {
   "cell_type": "code",
   "execution_count": 8,
   "metadata": {},
   "outputs": [],
   "source": [
    "url = 'http://www.e-happy.com.tw'\n",
    "# 自訂表頭\n",
    "headers={\n",
    "    'user-agent':'Mozilla/5.0 (Windows NT 10.0; Win64; x64) AppleWebKit/537.36 (KHTML, like Gecko) Chrome/64.0.3282.186 Sarai/537.36'\n",
    "}\n",
    "#將自訂表頭加入GET請求中\n",
    "r = requests.get(url, headers = headers)"
   ]
  },
  {
   "cell_type": "code",
   "execution_count": 10,
   "metadata": {},
   "outputs": [
    {
     "name": "stdout",
     "output_type": "stream",
     "text": [
      "{\n",
      "  \"args\": {}, \n",
      "  \"data\": \"\", \n",
      "  \"files\": {}, \n",
      "  \"form\": {\n",
      "    \"key1\": \"value1\", \n",
      "    \"key2\": \"value2\"\n",
      "  }, \n",
      "  \"headers\": {\n",
      "    \"Accept\": \"*/*\", \n",
      "    \"Accept-Encoding\": \"gzip, deflate\", \n",
      "    \"Connection\": \"close\", \n",
      "    \"Content-Length\": \"23\", \n",
      "    \"Content-Type\": \"application/x-www-form-urlencoded\", \n",
      "    \"Host\": \"httpbin.org\", \n",
      "    \"User-Agent\": \"python-requests/2.19.1\"\n",
      "  }, \n",
      "  \"json\": null, \n",
      "  \"origin\": \"36.239.50.175\", \n",
      "  \"url\": \"http://httpbin.org/post\"\n",
      "}\n",
      "\n"
     ]
    }
   ],
   "source": [
    "import requests\n",
    "# 將查詢參數定義為字典資料，加入POST請求中\n",
    "payload = {'key1': 'value1', 'key2': 'value2'}\n",
    "html = requests.post(\"http://httpbin.org/post\", data=payload)\n",
    "print(html.text)"
   ]
  },
  {
   "cell_type": "code",
   "execution_count": 16,
   "metadata": {},
   "outputs": [
    {
     "name": "stdout",
     "output_type": "stream",
     "text": [
      "10/19 jp6vu04boy \n",
      "[問卦] 網美484大多活在自己的世界啊\n",
      "\n",
      "10/19 currry \n",
      "[問卦] 急.！貓貓躺身上怎辦 \n",
      "\n",
      "10/19 - \n",
      "\t\t\t\n",
      "\t\t\t\t(本文已被刪除) [lockgolden]\n",
      "\t\t\t\n",
      "\t\t\t\n",
      "10/19 coolhon \n",
      "Re: [問卦] 當里長那麼好玩嗎？\n",
      "\n",
      "10/19 fatslave \n",
      "[問卦] 喜歡穿女裝過陣子會變甲嗎\n",
      "\n",
      "10/19 a19887798 \n",
      "[問卦] 納智捷和HTC哪個是台灣之恥第一名？\n",
      "\n",
      "10/19 yabe5566 \n",
      "[問卦] 做瑜珈真的健康嗎?\n",
      "\n",
      "10/19 loa123 \n",
      "[問卦] 佐賀的超級阿嬤在台灣怎麼紅的\n",
      "\n",
      "10/19 rocephin \n",
      "[問卦] 大家好  我登入終於700了\n",
      "\n",
      "10/19 wenjames \n",
      "[新聞] 女慘遭未婚夫下符、暴打 竟「虐到記不得\n",
      "\n",
      "10/19 g7a7n7 \n",
      "[問卦] 等餐轉頭看到妹仔她就走過來\n",
      "\n",
      "11/11 Kay731 \n",
      "[公告] 八卦板板規(2017.11.11)\n",
      "\n",
      " 9/30 RandyMarsh \n",
      "[公告] 政問罰則暫時提高至16個月\n",
      "\n",
      "10/01 RandyMarsh \n",
      "[公告] 十月置底閒聊聊天文\n",
      "\n",
      "10/14 YAKIOAO \n",
      "[協尋] 1071008晚間民權東路三段/龍江路口車禍\n",
      "\n",
      "10/16 girl55665566 \n",
      "[公告] 八卦板板規修訂案於GossipPicket討論中 \n",
      "\n"
     ]
    }
   ],
   "source": [
    "import requests\n",
    "from bs4 import BeautifulSoup\n",
    "payload = {\n",
    "   'from': 'https://www.ptt.cc/bbs/Gossiping/index.html',\n",
    "\t'yes': 'yes'\n",
    "}\n",
    "headers = {\n",
    "\t'user-agent': 'Mozilla/5.0 (Macintosh; Intel Mac OS X 10_12_3) AppleWebKit/537.36 (KHTML, like Gecko) Chrome/56.0.2924.87 Safari/537.36'\n",
    "}\n",
    "rs = requests.Session()\n",
    "rs.post('https://www.ptt.cc/ask/over18', data=payload, headers=headers)\n",
    "res = rs.get('https://www.ptt.cc/bbs/Gossiping/index.html', headers=headers)\n",
    "\n",
    "soup = BeautifulSoup(res.text, 'html.parser')\n",
    "items = soup.select('.r-ent')\n",
    "for item in items:\n",
    "    print(item.select('.date')[0].text, item.select('.author')[0].text, item.select('.title')[0].text)"
   ]
  }
 ],
 "metadata": {
  "kernelspec": {
   "display_name": "Python 3",
   "language": "python",
   "name": "python3"
  },
  "language_info": {
   "codemirror_mode": {
    "name": "ipython",
    "version": 3
   },
   "file_extension": ".py",
   "mimetype": "text/x-python",
   "name": "python",
   "nbconvert_exporter": "python",
   "pygments_lexer": "ipython3",
   "version": "3.6.6"
  }
 },
 "nbformat": 4,
 "nbformat_minor": 2
}

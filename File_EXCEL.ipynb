{
 "cells": [
  {
   "cell_type": "code",
   "execution_count": 1,
   "metadata": {},
   "outputs": [],
   "source": [
    "import openpyxl        \n",
    "workbook=openpyxl.Workbook()   #建立一個工作簿\n",
    "# 取得第 1 個工作表\n",
    "sheet = workbook.worksheets[0]\n",
    "\n",
    "sheet['A1'] = 'Hello'\n",
    "sheet['B1'] = 'World'\n",
    "listtitle=[\"姓名\",\"電話\"]\n",
    "sheet.append(listtitle)  \n",
    "listdata=[\"chiou\",\"0937-1234567\"]\n",
    "sheet.append(listdata)  \n",
    "    \n",
    "workbook.save('test.xlsx')    "
   ]
  },
  {
   "cell_type": "code",
   "execution_count": 2,
   "metadata": {},
   "outputs": [
    {
     "name": "stdout",
     "output_type": "stream",
     "text": [
      "<Cell 'Sheet'.A1> Hello\n",
      "3 2\n",
      "Hello   World   \n",
      "姓名   電話   \n",
      "chiou   0937-1234567   \n"
     ]
    }
   ],
   "source": [
    "import openpyxl\n",
    " \n",
    "#  讀取檔案\n",
    "workbook = openpyxl.load_workbook('test.xlsx')\n",
    "# 取得第 1 個工作表\n",
    "sheet = workbook.worksheets[0]\n",
    "\n",
    "# 取得指定儲存格\n",
    "print(sheet['A1'], sheet['A1'].value)\n",
    "\n",
    "# 取得總行、列數\n",
    "print(sheet.max_row, sheet.max_column)\n",
    "\n",
    "# 顯示 cell資料\n",
    "for i in range(1, sheet.max_row+1):\n",
    "    for j in range(1, sheet.max_column+1):\n",
    "        print(sheet.cell(row=i, column=j).value,end=\"   \")\n",
    "    print()\n",
    "\n",
    "sheet['A3'] = 'David' \n",
    "workbook.save('test.xlsx')     "
   ]
  }
 ],
 "metadata": {
  "kernelspec": {
   "display_name": "Python 3",
   "language": "python",
   "name": "python3"
  },
  "language_info": {
   "codemirror_mode": {
    "name": "ipython",
    "version": 3
   },
   "file_extension": ".py",
   "mimetype": "text/x-python",
   "name": "python",
   "nbconvert_exporter": "python",
   "pygments_lexer": "ipython3",
   "version": "3.6.6"
  }
 },
 "nbformat": 4,
 "nbformat_minor": 2
}

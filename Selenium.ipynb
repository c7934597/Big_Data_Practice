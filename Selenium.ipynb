{
 "cells": [
  {
   "cell_type": "code",
   "execution_count": 5,
   "metadata": {},
   "outputs": [],
   "source": [
    "from selenium import webdriver\n",
    "\n",
    "# 會出現 Alert 視窗\n",
    "#url = 'https://www.facebook.com/'\n",
    "email='你的帳號'\n",
    "password='你的密碼'\n",
    "#driver = webdriver.Chrome()\n",
    "\n",
    "# 取消 Alert 視窗\n",
    "url = 'https://www.facebook.com/'\n",
    "chrome_options = webdriver.ChromeOptions()\n",
    "prefs = {\"profile.default_content_setting_values.notifications\" : 2}\n",
    "chrome_options.add_experimental_option(\"prefs\",prefs)\n",
    "driver = webdriver.Chrome(options=chrome_options)\n",
    "\n",
    "driver.maximize_window()\n",
    "driver.get(url)\n",
    "\n",
    "driver.find_element_by_id('email').send_keys(email)\n",
    "driver.find_element_by_id('pass').send_keys(password)\n",
    "driver.find_element_by_id('loginbutton').click()  # 按 登入 鈕\n",
    "\n",
    "#driver.quit()"
   ]
  }
 ],
 "metadata": {
  "kernelspec": {
   "display_name": "Python 3",
   "language": "python",
   "name": "python3"
  },
  "language_info": {
   "codemirror_mode": {
    "name": "ipython",
    "version": 3
   },
   "file_extension": ".py",
   "mimetype": "text/x-python",
   "name": "python",
   "nbconvert_exporter": "python",
   "pygments_lexer": "ipython3",
   "version": "3.6.6"
  }
 },
 "nbformat": 4,
 "nbformat_minor": 2
}

{
 "cells": [
  {
   "cell_type": "code",
   "execution_count": 5,
   "metadata": {},
   "outputs": [],
   "source": [
    "content='''Hello Python\n",
    "中文字測試\n",
    "Welcome\n",
    "'''\n",
    "\n",
    "f=open('file1.txt','w')\n",
    "f.write(content)\n",
    "f.close()"
   ]
  },
  {
   "cell_type": "code",
   "execution_count": 7,
   "metadata": {},
   "outputs": [
    {
     "name": "stdout",
     "output_type": "stream",
     "text": [
      "﻿Hello Python\n",
      "中文字測試\n",
      "Welcome\n"
     ]
    }
   ],
   "source": [
    "f=open('file1.txt','r',encoding='UTF-8')\n",
    "for line in f:\n",
    "    print(line,end=\"\")\n",
    "f.close()"
   ]
  },
  {
   "cell_type": "code",
   "execution_count": 8,
   "metadata": {},
   "outputs": [
    {
     "name": "stdout",
     "output_type": "stream",
     "text": [
      "﻿Hello Python\n",
      "中文字測試\n",
      "Welcome\n"
     ]
    }
   ],
   "source": [
    "with open('file1.txt','r',encoding='UTF-8') as f:\n",
    "    for line in f:\n",
    "        print(line,end=\"\")"
   ]
  },
  {
   "cell_type": "code",
   "execution_count": 10,
   "metadata": {},
   "outputs": [
    {
     "ename": "UnicodeDecodeError",
     "evalue": "'cp950' codec can't decode byte 0x96 in position 21: illegal multibyte sequence",
     "output_type": "error",
     "traceback": [
      "\u001b[1;31m---------------------------------------------------------------------------\u001b[0m",
      "\u001b[1;31mUnicodeDecodeError\u001b[0m                        Traceback (most recent call last)",
      "\u001b[1;32m<ipython-input-10-f6f0782add57>\u001b[0m in \u001b[0;36m<module>\u001b[1;34m\u001b[0m\n\u001b[0;32m      1\u001b[0m \u001b[0mf\u001b[0m\u001b[1;33m=\u001b[0m\u001b[0mopen\u001b[0m\u001b[1;33m(\u001b[0m\u001b[1;34m'file1.txt'\u001b[0m\u001b[1;33m,\u001b[0m\u001b[1;34m'r'\u001b[0m\u001b[1;33m,\u001b[0m\u001b[0mencoding\u001b[0m \u001b[1;33m=\u001b[0m\u001b[1;34m'cp950'\u001b[0m\u001b[1;33m)\u001b[0m\u001b[1;33m\u001b[0m\u001b[0m\n\u001b[1;32m----> 2\u001b[1;33m \u001b[1;32mfor\u001b[0m \u001b[0mline\u001b[0m \u001b[1;32min\u001b[0m \u001b[0mf\u001b[0m\u001b[1;33m:\u001b[0m\u001b[1;33m\u001b[0m\u001b[0m\n\u001b[0m\u001b[0;32m      3\u001b[0m     \u001b[0mprint\u001b[0m\u001b[1;33m(\u001b[0m\u001b[0mline\u001b[0m\u001b[1;33m,\u001b[0m\u001b[0mend\u001b[0m\u001b[1;33m=\u001b[0m\u001b[1;34m\"\"\u001b[0m\u001b[1;33m)\u001b[0m\u001b[1;33m\u001b[0m\u001b[0m\n\u001b[0;32m      4\u001b[0m \u001b[0mf\u001b[0m\u001b[1;33m.\u001b[0m\u001b[0mclose\u001b[0m\u001b[1;33m(\u001b[0m\u001b[1;33m)\u001b[0m\u001b[1;33m\u001b[0m\u001b[0m\n",
      "\u001b[1;31mUnicodeDecodeError\u001b[0m: 'cp950' codec can't decode byte 0x96 in position 21: illegal multibyte sequence"
     ]
    }
   ],
   "source": [
    "f=open('file1.txt','r',encoding ='cp950')\n",
    "for line in f:\n",
    "    print(line,end=\"\")\n",
    "f.close()"
   ]
  },
  {
   "cell_type": "code",
   "execution_count": 11,
   "metadata": {},
   "outputs": [
    {
     "name": "stdout",
     "output_type": "stream",
     "text": [
      "﻿Hell\n"
     ]
    }
   ],
   "source": [
    "with open('file1.txt','r',encoding='UTF-8') as f:\n",
    "    str1=f.read(5)\n",
    "    print(str1)  # Hello"
   ]
  },
  {
   "cell_type": "code",
   "execution_count": 12,
   "metadata": {},
   "outputs": [
    {
     "name": "stdout",
     "output_type": "stream",
     "text": [
      "<class 'list'>\n",
      "['\\ufeffHello Python\\n', '中文字測試\\n', 'Welcome\\n']\n"
     ]
    }
   ],
   "source": [
    "with open('file1.txt','r',encoding='UTF-8') as f:\n",
    "    content=f.readlines() \n",
    "    print(type(content))   # <class 'list'>\n",
    "    print(content)  "
   ]
  },
  {
   "cell_type": "code",
   "execution_count": 13,
   "metadata": {},
   "outputs": [
    {
     "name": "stdout",
     "output_type": "stream",
     "text": [
      "['\\ufeff123中文字\\n', 'abcde\\n', 'hello\\n']\n",
      "﻿123中\n"
     ]
    }
   ],
   "source": [
    "with open('file2.txt','r',encoding ='UTF-8') as f:\n",
    "    content=f.readlines() \n",
    "    print(content)      \n",
    "    \n",
    "f=open('file2.txt','r',encoding ='UTF-8')\n",
    "str1=f.read(5)\n",
    "print(str1)  # 123中\n",
    "f.close()"
   ]
  },
  {
   "cell_type": "code",
   "execution_count": 14,
   "metadata": {},
   "outputs": [
    {
     "name": "stdout",
     "output_type": "stream",
     "text": [
      "['123中文字\\n', 'abcde\\n', 'hello\\n']\n",
      "123中文\n"
     ]
    }
   ],
   "source": [
    "with open('file2.txt','r',encoding ='UTF-8-sig') as f:\n",
    "    content=f.readlines() \n",
    "    print(content)      \n",
    "    \n",
    "f=open('file2.txt','r',encoding ='UTF-8-sig')\n",
    "str1=f.read(5)\n",
    "print(str1)  # 123中文\n",
    "f.close()"
   ]
  },
  {
   "cell_type": "code",
   "execution_count": 15,
   "metadata": {},
   "outputs": [
    {
     "name": "stdout",
     "output_type": "stream",
     "text": [
      "123中文字\n",
      "\n",
      "abc\n"
     ]
    }
   ],
   "source": [
    "f=open('file2.txt','r',encoding ='UTF-8-sig')\n",
    "print(f.readline())  # 123中文字\\n\n",
    "print(f.readline(3)) # abc\n",
    "f.close()"
   ]
  }
 ],
 "metadata": {
  "kernelspec": {
   "display_name": "Python 3",
   "language": "python",
   "name": "python3"
  },
  "language_info": {
   "codemirror_mode": {
    "name": "ipython",
    "version": 3
   },
   "file_extension": ".py",
   "mimetype": "text/x-python",
   "name": "python",
   "nbconvert_exporter": "python",
   "pygments_lexer": "ipython3",
   "version": "3.6.6"
  }
 },
 "nbformat": 4,
 "nbformat_minor": 2
}
